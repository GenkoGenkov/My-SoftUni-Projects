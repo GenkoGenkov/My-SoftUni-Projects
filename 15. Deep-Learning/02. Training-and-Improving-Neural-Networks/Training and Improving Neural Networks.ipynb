{
 "cells": [
  {
   "cell_type": "code",
   "execution_count": 1,
   "id": "039b8596",
   "metadata": {},
   "outputs": [],
   "source": [
    "%matplotlib inline"
   ]
  },
  {
   "cell_type": "code",
   "execution_count": 60,
   "id": "2c3d2b0c",
   "metadata": {},
   "outputs": [],
   "source": [
    "import numpy as np\n",
    "import pandas as pd\n",
    "import matplotlib.pyplot as plt\n",
    "\n",
    "import tensorflow as tf\n",
    "\n",
    "from tensorflow.keras.datasets import mnist\n",
    "from tensorflow.keras.models import Sequential\n",
    "from tensorflow.keras.regularizers import L1, L2, L1L2\n",
    "from tensorflow.keras.layers import Input, Flatten, Dense, Dropout, BatchNormalization\n",
    "from tensorflow.keras.callbacks import TensorBoard"
   ]
  },
  {
   "cell_type": "markdown",
   "id": "d76c0f3e",
   "metadata": {},
   "source": [
    "# Training and Improving Neural Networks"
   ]
  },
  {
   "cell_type": "markdown",
   "id": "bb355aa0",
   "metadata": {},
   "source": [
    "## Demos\n"
   ]
  },
  {
   "cell_type": "code",
   "execution_count": 3,
   "id": "bd7eed03",
   "metadata": {},
   "outputs": [
    {
     "data": {
      "text/plain": [
       "((array([[[0, 0, 0, ..., 0, 0, 0],\n",
       "          [0, 0, 0, ..., 0, 0, 0],\n",
       "          [0, 0, 0, ..., 0, 0, 0],\n",
       "          ...,\n",
       "          [0, 0, 0, ..., 0, 0, 0],\n",
       "          [0, 0, 0, ..., 0, 0, 0],\n",
       "          [0, 0, 0, ..., 0, 0, 0]],\n",
       "  \n",
       "         [[0, 0, 0, ..., 0, 0, 0],\n",
       "          [0, 0, 0, ..., 0, 0, 0],\n",
       "          [0, 0, 0, ..., 0, 0, 0],\n",
       "          ...,\n",
       "          [0, 0, 0, ..., 0, 0, 0],\n",
       "          [0, 0, 0, ..., 0, 0, 0],\n",
       "          [0, 0, 0, ..., 0, 0, 0]],\n",
       "  \n",
       "         [[0, 0, 0, ..., 0, 0, 0],\n",
       "          [0, 0, 0, ..., 0, 0, 0],\n",
       "          [0, 0, 0, ..., 0, 0, 0],\n",
       "          ...,\n",
       "          [0, 0, 0, ..., 0, 0, 0],\n",
       "          [0, 0, 0, ..., 0, 0, 0],\n",
       "          [0, 0, 0, ..., 0, 0, 0]],\n",
       "  \n",
       "         ...,\n",
       "  \n",
       "         [[0, 0, 0, ..., 0, 0, 0],\n",
       "          [0, 0, 0, ..., 0, 0, 0],\n",
       "          [0, 0, 0, ..., 0, 0, 0],\n",
       "          ...,\n",
       "          [0, 0, 0, ..., 0, 0, 0],\n",
       "          [0, 0, 0, ..., 0, 0, 0],\n",
       "          [0, 0, 0, ..., 0, 0, 0]],\n",
       "  \n",
       "         [[0, 0, 0, ..., 0, 0, 0],\n",
       "          [0, 0, 0, ..., 0, 0, 0],\n",
       "          [0, 0, 0, ..., 0, 0, 0],\n",
       "          ...,\n",
       "          [0, 0, 0, ..., 0, 0, 0],\n",
       "          [0, 0, 0, ..., 0, 0, 0],\n",
       "          [0, 0, 0, ..., 0, 0, 0]],\n",
       "  \n",
       "         [[0, 0, 0, ..., 0, 0, 0],\n",
       "          [0, 0, 0, ..., 0, 0, 0],\n",
       "          [0, 0, 0, ..., 0, 0, 0],\n",
       "          ...,\n",
       "          [0, 0, 0, ..., 0, 0, 0],\n",
       "          [0, 0, 0, ..., 0, 0, 0],\n",
       "          [0, 0, 0, ..., 0, 0, 0]]], dtype=uint8),\n",
       "  array([5, 0, 4, ..., 5, 6, 8], dtype=uint8)),\n",
       " (array([[[0, 0, 0, ..., 0, 0, 0],\n",
       "          [0, 0, 0, ..., 0, 0, 0],\n",
       "          [0, 0, 0, ..., 0, 0, 0],\n",
       "          ...,\n",
       "          [0, 0, 0, ..., 0, 0, 0],\n",
       "          [0, 0, 0, ..., 0, 0, 0],\n",
       "          [0, 0, 0, ..., 0, 0, 0]],\n",
       "  \n",
       "         [[0, 0, 0, ..., 0, 0, 0],\n",
       "          [0, 0, 0, ..., 0, 0, 0],\n",
       "          [0, 0, 0, ..., 0, 0, 0],\n",
       "          ...,\n",
       "          [0, 0, 0, ..., 0, 0, 0],\n",
       "          [0, 0, 0, ..., 0, 0, 0],\n",
       "          [0, 0, 0, ..., 0, 0, 0]],\n",
       "  \n",
       "         [[0, 0, 0, ..., 0, 0, 0],\n",
       "          [0, 0, 0, ..., 0, 0, 0],\n",
       "          [0, 0, 0, ..., 0, 0, 0],\n",
       "          ...,\n",
       "          [0, 0, 0, ..., 0, 0, 0],\n",
       "          [0, 0, 0, ..., 0, 0, 0],\n",
       "          [0, 0, 0, ..., 0, 0, 0]],\n",
       "  \n",
       "         ...,\n",
       "  \n",
       "         [[0, 0, 0, ..., 0, 0, 0],\n",
       "          [0, 0, 0, ..., 0, 0, 0],\n",
       "          [0, 0, 0, ..., 0, 0, 0],\n",
       "          ...,\n",
       "          [0, 0, 0, ..., 0, 0, 0],\n",
       "          [0, 0, 0, ..., 0, 0, 0],\n",
       "          [0, 0, 0, ..., 0, 0, 0]],\n",
       "  \n",
       "         [[0, 0, 0, ..., 0, 0, 0],\n",
       "          [0, 0, 0, ..., 0, 0, 0],\n",
       "          [0, 0, 0, ..., 0, 0, 0],\n",
       "          ...,\n",
       "          [0, 0, 0, ..., 0, 0, 0],\n",
       "          [0, 0, 0, ..., 0, 0, 0],\n",
       "          [0, 0, 0, ..., 0, 0, 0]],\n",
       "  \n",
       "         [[0, 0, 0, ..., 0, 0, 0],\n",
       "          [0, 0, 0, ..., 0, 0, 0],\n",
       "          [0, 0, 0, ..., 0, 0, 0],\n",
       "          ...,\n",
       "          [0, 0, 0, ..., 0, 0, 0],\n",
       "          [0, 0, 0, ..., 0, 0, 0],\n",
       "          [0, 0, 0, ..., 0, 0, 0]]], dtype=uint8),\n",
       "  array([7, 2, 1, ..., 4, 5, 6], dtype=uint8)))"
      ]
     },
     "execution_count": 3,
     "metadata": {},
     "output_type": "execute_result"
    }
   ],
   "source": [
    "mnist.load_data()"
   ]
  },
  {
   "cell_type": "code",
   "execution_count": 4,
   "id": "0634b4a4",
   "metadata": {},
   "outputs": [],
   "source": [
    "(train_attributes, train_classes), (test_attributes, test_classes) = mnist.load_data()"
   ]
  },
  {
   "cell_type": "code",
   "execution_count": 5,
   "id": "39b18e0f",
   "metadata": {},
   "outputs": [
    {
     "data": {
      "text/plain": [
       "(60000, 28, 28)"
      ]
     },
     "execution_count": 5,
     "metadata": {},
     "output_type": "execute_result"
    }
   ],
   "source": [
    "train_attributes.shape"
   ]
  },
  {
   "cell_type": "code",
   "execution_count": 52,
   "id": "799e46ea",
   "metadata": {},
   "outputs": [
    {
     "data": {
      "text/plain": [
       "255"
      ]
     },
     "execution_count": 52,
     "metadata": {},
     "output_type": "execute_result"
    }
   ],
   "source": [
    "train_attributes[0].max()"
   ]
  },
  {
   "cell_type": "code",
   "execution_count": 6,
   "id": "2f607d4b",
   "metadata": {},
   "outputs": [
    {
     "data": {
      "text/plain": [
       "(10000, 28, 28)"
      ]
     },
     "execution_count": 6,
     "metadata": {},
     "output_type": "execute_result"
    }
   ],
   "source": [
    "test_attributes.shape"
   ]
  },
  {
   "cell_type": "code",
   "execution_count": 7,
   "id": "a3e70a7e",
   "metadata": {},
   "outputs": [],
   "source": [
    "input_shape = train_attributes[0].shape\n",
    "num_classes = len(set(train_classes))"
   ]
  },
  {
   "cell_type": "code",
   "execution_count": 8,
   "id": "2641dad1",
   "metadata": {},
   "outputs": [
    {
     "data": {
      "text/plain": [
       "(28, 28)"
      ]
     },
     "execution_count": 8,
     "metadata": {},
     "output_type": "execute_result"
    }
   ],
   "source": [
    "input_shape"
   ]
  },
  {
   "cell_type": "code",
   "execution_count": 9,
   "id": "fc2790b5",
   "metadata": {},
   "outputs": [
    {
     "data": {
      "text/plain": [
       "{0, 1, 2, 3, 4, 5, 6, 7, 8, 9}"
      ]
     },
     "execution_count": 9,
     "metadata": {},
     "output_type": "execute_result"
    }
   ],
   "source": [
    "set(train_classes)"
   ]
  },
  {
   "cell_type": "code",
   "execution_count": 55,
   "id": "977be02f",
   "metadata": {},
   "outputs": [],
   "source": [
    "tf.keras.backend.clear_session()"
   ]
  },
  {
   "cell_type": "code",
   "execution_count": 37,
   "id": "fa9182b3",
   "metadata": {},
   "outputs": [],
   "source": [
    "model = Sequential([\n",
    "    Input(input_shape),\n",
    "    Flatten(),\n",
    "    Dense(20, activation = \"relu\"),\n",
    "    Dropout(0.9),\n",
    "    Dense(num_classes, activation = \"softmax\")    \n",
    "])"
   ]
  },
  {
   "cell_type": "code",
   "execution_count": 22,
   "id": "74e9b09b",
   "metadata": {},
   "outputs": [
    {
     "name": "stdout",
     "output_type": "stream",
     "text": [
      "Model: \"sequential_2\"\n",
      "_________________________________________________________________\n",
      " Layer (type)                Output Shape              Param #   \n",
      "=================================================================\n",
      " flatten_2 (Flatten)         (None, 784)               0         \n",
      "                                                                 \n",
      " dense_8 (Dense)             (None, 40)                31400     \n",
      "                                                                 \n",
      " dropout (Dropout)           (None, 40)                0         \n",
      "                                                                 \n",
      " dense_9 (Dense)             (None, 30)                1230      \n",
      "                                                                 \n",
      " dropout_1 (Dropout)         (None, 30)                0         \n",
      "                                                                 \n",
      " dense_10 (Dense)            (None, 20)                620       \n",
      "                                                                 \n",
      " dropout_2 (Dropout)         (None, 20)                0         \n",
      "                                                                 \n",
      " dense_11 (Dense)            (None, 10)                210       \n",
      "                                                                 \n",
      "=================================================================\n",
      "Total params: 33,460\n",
      "Trainable params: 33,460\n",
      "Non-trainable params: 0\n",
      "_________________________________________________________________\n"
     ]
    }
   ],
   "source": [
    "model.summary()"
   ]
  },
  {
   "cell_type": "code",
   "execution_count": 38,
   "id": "0e975c2a",
   "metadata": {},
   "outputs": [],
   "source": [
    "model.compile(loss = \"sparse_categorical_crossentropy\", optimizer = \"adam\")"
   ]
  },
  {
   "cell_type": "code",
   "execution_count": 40,
   "id": "3ccd361b",
   "metadata": {},
   "outputs": [
    {
     "name": "stdout",
     "output_type": "stream",
     "text": [
      "Epoch 1/20\n",
      "1688/1688 [==============================] - 2s 1ms/step - loss: 2.2892 - val_loss: 2.1735\n",
      "Epoch 2/20\n",
      "1688/1688 [==============================] - 2s 1ms/step - loss: 2.2961 - val_loss: 2.2595\n",
      "Epoch 3/20\n",
      "1688/1688 [==============================] - 2s 1ms/step - loss: 2.2943 - val_loss: 2.1870\n",
      "Epoch 4/20\n",
      "1688/1688 [==============================] - 2s 1ms/step - loss: 2.2923 - val_loss: 2.1702\n",
      "Epoch 5/20\n",
      "1688/1688 [==============================] - 2s 1ms/step - loss: 2.2900 - val_loss: 2.1761\n",
      "Epoch 6/20\n",
      "1688/1688 [==============================] - 2s 1ms/step - loss: 2.2886 - val_loss: 2.1529\n",
      "Epoch 7/20\n",
      "1688/1688 [==============================] - 2s 1ms/step - loss: 2.3100 - val_loss: 2.2484\n",
      "Epoch 8/20\n",
      "1688/1688 [==============================] - 2s 1ms/step - loss: 2.3073 - val_loss: 2.1995\n",
      "Epoch 9/20\n",
      "1688/1688 [==============================] - 2s 1ms/step - loss: 2.2916 - val_loss: 2.1991\n",
      "Epoch 10/20\n",
      "1688/1688 [==============================] - 2s 1ms/step - loss: 2.2893 - val_loss: 2.1665\n",
      "Epoch 11/20\n",
      "1688/1688 [==============================] - 2s 1ms/step - loss: 2.2968 - val_loss: 2.2968\n",
      "Epoch 12/20\n",
      "1688/1688 [==============================] - 2s 1ms/step - loss: 2.2997 - val_loss: 2.2477\n",
      "Epoch 13/20\n",
      "1688/1688 [==============================] - 2s 1ms/step - loss: 2.2917 - val_loss: 2.1495\n",
      "Epoch 14/20\n",
      "1688/1688 [==============================] - 2s 1ms/step - loss: 2.3020 - val_loss: 2.1469\n",
      "Epoch 15/20\n",
      "1688/1688 [==============================] - 2s 1ms/step - loss: 2.2860 - val_loss: 2.1542\n",
      "Epoch 16/20\n",
      "1688/1688 [==============================] - 2s 1ms/step - loss: 2.2962 - val_loss: 2.2665\n",
      "Epoch 17/20\n",
      "1688/1688 [==============================] - 2s 1ms/step - loss: 2.2927 - val_loss: 2.1832\n",
      "Epoch 18/20\n",
      "1688/1688 [==============================] - 2s 1ms/step - loss: 2.3041 - val_loss: 2.1364\n",
      "Epoch 19/20\n",
      "1688/1688 [==============================] - 2s 1ms/step - loss: 2.3007 - val_loss: 2.1583\n",
      "Epoch 20/20\n",
      "1688/1688 [==============================] - 2s 1ms/step - loss: 2.2873 - val_loss: 2.1338\n"
     ]
    },
    {
     "data": {
      "text/plain": [
       "<keras.callbacks.History at 0x2fb172c72e0>"
      ]
     },
     "execution_count": 40,
     "metadata": {},
     "output_type": "execute_result"
    }
   ],
   "source": [
    "model.fit(train_attributes, train_classes, validation_split = 0.1, epochs = 20, callbacks = [TensorBoard(update_freq = 10)])"
   ]
  },
  {
   "cell_type": "code",
   "execution_count": 31,
   "id": "66931c44",
   "metadata": {},
   "outputs": [],
   "source": [
    "model.layers[1].trainable = True"
   ]
  },
  {
   "cell_type": "code",
   "execution_count": 30,
   "id": "20ed841c",
   "metadata": {},
   "outputs": [
    {
     "name": "stdout",
     "output_type": "stream",
     "text": [
      "Model: \"sequential_4\"\n",
      "_________________________________________________________________\n",
      " Layer (type)                Output Shape              Param #   \n",
      "=================================================================\n",
      " flatten_4 (Flatten)         (None, 784)               0         \n",
      "                                                                 \n",
      " dense_16 (Dense)            (None, 40)                31400     \n",
      "                                                                 \n",
      " dropout_6 (Dropout)         (None, 40)                0         \n",
      "                                                                 \n",
      " dense_17 (Dense)            (None, 30)                1230      \n",
      "                                                                 \n",
      " dropout_7 (Dropout)         (None, 30)                0         \n",
      "                                                                 \n",
      " dense_18 (Dense)            (None, 20)                620       \n",
      "                                                                 \n",
      " dropout_8 (Dropout)         (None, 20)                0         \n",
      "                                                                 \n",
      " dense_19 (Dense)            (None, 10)                210       \n",
      "                                                                 \n",
      "=================================================================\n",
      "Total params: 33,460\n",
      "Trainable params: 2,060\n",
      "Non-trainable params: 31,400\n",
      "_________________________________________________________________\n"
     ]
    }
   ],
   "source": [
    "model.summary()"
   ]
  },
  {
   "cell_type": "code",
   "execution_count": 51,
   "id": "cebc6bfc",
   "metadata": {},
   "outputs": [],
   "source": [
    "new_model = Sequential([\n",
    "    Input(shape = (20, )),\n",
    "    Dense(5),\n",
    "    Dense(10),\n",
    "    Dense(2)\n",
    "])"
   ]
  },
  {
   "cell_type": "code",
   "execution_count": 45,
   "id": "b319a8e5",
   "metadata": {},
   "outputs": [
    {
     "data": {
      "text/plain": [
       "[<keras.layers.core.dense.Dense at 0x2fb1c241d90>,\n",
       " <keras.layers.core.dense.Dense at 0x2fb172c7be0>,\n",
       " <keras.layers.core.dense.Dense at 0x2fb1c4d2250>]"
      ]
     },
     "execution_count": 45,
     "metadata": {},
     "output_type": "execute_result"
    }
   ],
   "source": [
    "new_model.layers"
   ]
  },
  {
   "cell_type": "code",
   "execution_count": 44,
   "id": "8d0d293c",
   "metadata": {},
   "outputs": [
    {
     "data": {
      "text/plain": [
       "<tf.Variable 'dense_6/kernel:0' shape=(20, 5) dtype=float32, numpy=\n",
       "array([[-0.35889477, -0.01989549,  0.38536945,  0.09916547, -0.43800977],\n",
       "       [ 0.48504266,  0.17269322,  0.3924792 ,  0.21836314,  0.10396591],\n",
       "       [-0.05882964, -0.16373366,  0.01320806, -0.4692916 ,  0.29602405],\n",
       "       [-0.48534027,  0.32204238, -0.4222294 , -0.43355337,  0.3818154 ],\n",
       "       [-0.41999537,  0.4676014 ,  0.43538734, -0.38945103, -0.25495237],\n",
       "       [ 0.38370362, -0.3725266 , -0.403718  ,  0.17131004,  0.43409893],\n",
       "       [-0.2834248 , -0.2749559 , -0.04026309, -0.0884085 , -0.29326957],\n",
       "       [ 0.11666712, -0.32574028, -0.08021   , -0.47773606, -0.22278544],\n",
       "       [-0.16266984, -0.03941488,  0.36766502,  0.39826724, -0.33996978],\n",
       "       [ 0.176348  , -0.25765747, -0.22228354, -0.20944339,  0.20894161],\n",
       "       [-0.2923903 , -0.09100276,  0.28178522,  0.3903449 , -0.28344825],\n",
       "       [-0.03517315, -0.45928037,  0.19593492, -0.27996433,  0.41311356],\n",
       "       [ 0.33304724,  0.08626845,  0.03281006, -0.17883307, -0.20817694],\n",
       "       [ 0.4585146 ,  0.29365978,  0.3827525 , -0.27089462, -0.46861264],\n",
       "       [-0.30827707, -0.24583526, -0.33787906, -0.34695038, -0.18451113],\n",
       "       [ 0.04061177, -0.20941946,  0.10393319, -0.12274617, -0.0220069 ],\n",
       "       [ 0.26907453, -0.08657226, -0.00340965,  0.38222715,  0.31266084],\n",
       "       [ 0.08867922,  0.32866123, -0.4642173 ,  0.40777275,  0.24974748],\n",
       "       [-0.41655886, -0.39598006,  0.17352071,  0.08467028,  0.17180553],\n",
       "       [-0.14835122,  0.21259186, -0.24983265,  0.3049161 , -0.18474448]],\n",
       "      dtype=float32)>"
      ]
     },
     "execution_count": 44,
     "metadata": {},
     "output_type": "execute_result"
    }
   ],
   "source": [
    "new_model.layers[0].kernel"
   ]
  },
  {
   "cell_type": "code",
   "execution_count": 47,
   "id": "b55bdd19",
   "metadata": {},
   "outputs": [
    {
     "data": {
      "text/plain": [
       "array([-0.35889477, -0.01989549,  0.38536945,  0.09916547, -0.43800977,\n",
       "        0.48504266,  0.17269322,  0.3924792 ,  0.21836314,  0.10396591,\n",
       "       -0.05882964, -0.16373366,  0.01320806, -0.4692916 ,  0.29602405,\n",
       "       -0.48534027,  0.32204238, -0.4222294 , -0.43355337,  0.3818154 ,\n",
       "       -0.41999537,  0.4676014 ,  0.43538734, -0.38945103, -0.25495237,\n",
       "        0.38370362, -0.3725266 , -0.403718  ,  0.17131004,  0.43409893,\n",
       "       -0.2834248 , -0.2749559 , -0.04026309, -0.0884085 , -0.29326957,\n",
       "        0.11666712, -0.32574028, -0.08021   , -0.47773606, -0.22278544,\n",
       "       -0.16266984, -0.03941488,  0.36766502,  0.39826724, -0.33996978,\n",
       "        0.176348  , -0.25765747, -0.22228354, -0.20944339,  0.20894161,\n",
       "       -0.2923903 , -0.09100276,  0.28178522,  0.3903449 , -0.28344825,\n",
       "       -0.03517315, -0.45928037,  0.19593492, -0.27996433,  0.41311356,\n",
       "        0.33304724,  0.08626845,  0.03281006, -0.17883307, -0.20817694,\n",
       "        0.4585146 ,  0.29365978,  0.3827525 , -0.27089462, -0.46861264,\n",
       "       -0.30827707, -0.24583526, -0.33787906, -0.34695038, -0.18451113,\n",
       "        0.04061177, -0.20941946,  0.10393319, -0.12274617, -0.0220069 ,\n",
       "        0.26907453, -0.08657226, -0.00340965,  0.38222715,  0.31266084,\n",
       "        0.08867922,  0.32866123, -0.4642173 ,  0.40777275,  0.24974748,\n",
       "       -0.41655886, -0.39598006,  0.17352071,  0.08467028,  0.17180553,\n",
       "       -0.14835122,  0.21259186, -0.24983265,  0.3049161 , -0.18474448],\n",
       "      dtype=float32)"
      ]
     },
     "execution_count": 47,
     "metadata": {},
     "output_type": "execute_result"
    }
   ],
   "source": [
    "new_model.layers[0].kernel.numpy().ravel()"
   ]
  },
  {
   "cell_type": "code",
   "execution_count": 50,
   "id": "6da9b701",
   "metadata": {},
   "outputs": [
    {
     "data": {
      "text/plain": [
       "(array([ 6.,  3., 10., 12., 10.,  9.]),\n",
       " array([-0.6143625 , -0.41281766, -0.21127282, -0.00972798,  0.19181685,\n",
       "         0.3933617 ,  0.5949065 ], dtype=float32),\n",
       " <BarContainer object of 6 artists>)"
      ]
     },
     "execution_count": 50,
     "metadata": {},
     "output_type": "execute_result"
    },
    {
     "data": {
      "image/png": "[encoded data removed]",
      "text/plain": [
       "<Figure size 640x480 with 1 Axes>"
      ]
     },
     "metadata": {},
     "output_type": "display_data"
    }
   ],
   "source": [
    "plt.hist(new_model.layers[1].kernel.numpy().ravel(), bins = \"fd\")"
   ]
  },
  {
   "cell_type": "code",
   "execution_count": 53,
   "id": "d45c46f9",
   "metadata": {},
   "outputs": [],
   "source": [
    "model.compile(loss = \"sparse_categorical_crossentropy\", optimizer = tf.keras.optimizers.SGD(learning_rate = 1))"
   ]
  },
  {
   "cell_type": "code",
   "execution_count": 54,
   "id": "f8c7628e",
   "metadata": {},
   "outputs": [
    {
     "name": "stdout",
     "output_type": "stream",
     "text": [
      "Epoch 1/20\n",
      "1688/1688 [==============================] - 3s 1ms/step - loss: 2.3078 - val_loss: 2.3088\n",
      "Epoch 2/20\n",
      "1688/1688 [==============================] - 2s 1ms/step - loss: 2.3087 - val_loss: 2.3157\n",
      "Epoch 3/20\n",
      "1688/1688 [==============================] - 2s 1ms/step - loss: 2.3087 - val_loss: 2.3048\n",
      "Epoch 4/20\n",
      "1688/1688 [==============================] - 2s 1ms/step - loss: 2.3084 - val_loss: 2.3068\n",
      "Epoch 5/20\n",
      "1688/1688 [==============================] - 2s 1ms/step - loss: 2.3086 - val_loss: 2.3234\n",
      "Epoch 6/20\n",
      "1688/1688 [==============================] - 2s 1ms/step - loss: 2.3087 - val_loss: 2.3156\n",
      "Epoch 7/20\n",
      "1688/1688 [==============================] - 2s 1ms/step - loss: 2.3087 - val_loss: 2.3193\n",
      "Epoch 8/20\n",
      "1688/1688 [==============================] - 2s 1ms/step - loss: 2.3091 - val_loss: 2.3101\n",
      "Epoch 9/20\n",
      "1688/1688 [==============================] - 2s 1ms/step - loss: 2.3085 - val_loss: 2.3102\n",
      "Epoch 10/20\n",
      "1688/1688 [==============================] - 2s 1ms/step - loss: 2.3090 - val_loss: 2.3250\n",
      "Epoch 11/20\n",
      "1688/1688 [==============================] - 2s 1ms/step - loss: 2.3086 - val_loss: 2.3101\n",
      "Epoch 12/20\n",
      "1688/1688 [==============================] - 2s 1ms/step - loss: 2.3085 - val_loss: 2.3101\n",
      "Epoch 13/20\n",
      "1688/1688 [==============================] - 2s 1ms/step - loss: 2.3091 - val_loss: 2.3134\n",
      "Epoch 14/20\n",
      "1688/1688 [==============================] - 2s 1ms/step - loss: 2.3087 - val_loss: 2.3106\n",
      "Epoch 15/20\n",
      "1688/1688 [==============================] - 2s 1ms/step - loss: 2.3084 - val_loss: 2.3053\n",
      "Epoch 16/20\n",
      "1688/1688 [==============================] - 2s 1ms/step - loss: 2.3087 - val_loss: 2.3092\n",
      "Epoch 17/20\n",
      "1688/1688 [==============================] - 2s 1ms/step - loss: 2.3079 - val_loss: 2.3084\n",
      "Epoch 18/20\n",
      "1688/1688 [==============================] - 2s 1ms/step - loss: 2.3086 - val_loss: 2.3162\n",
      "Epoch 19/20\n",
      "1688/1688 [==============================] - 2s 1ms/step - loss: 2.3085 - val_loss: 2.3147\n",
      "Epoch 20/20\n",
      "1688/1688 [==============================] - 2s 1ms/step - loss: 2.3086 - val_loss: 2.3081\n"
     ]
    },
    {
     "data": {
      "text/plain": [
       "<keras.callbacks.History at 0x2fb1c982ac0>"
      ]
     },
     "execution_count": 54,
     "metadata": {},
     "output_type": "execute_result"
    }
   ],
   "source": [
    "model.fit(train_attributes, train_classes, validation_split = 0.1, epochs = 20, callbacks = [TensorBoard(update_freq = 10)])"
   ]
  },
  {
   "cell_type": "code",
   "execution_count": 58,
   "id": "9d6ba473",
   "metadata": {},
   "outputs": [],
   "source": [
    "model.compile(loss = \"sparse_categorical_crossentropy\", optimizer = tf.keras.optimizers.SGD(learning_rate = 10))"
   ]
  },
  {
   "cell_type": "code",
   "execution_count": 59,
   "id": "37166f41",
   "metadata": {},
   "outputs": [
    {
     "name": "stdout",
     "output_type": "stream",
     "text": [
      "Epoch 1/20\n",
      "1688/1688 [==============================] - 2s 1ms/step - loss: 2.4702 - val_loss: 2.5556\n",
      "Epoch 2/20\n",
      "1688/1688 [==============================] - 2s 1ms/step - loss: 2.4694 - val_loss: 2.5791\n",
      "Epoch 3/20\n",
      "1688/1688 [==============================] - 2s 1ms/step - loss: 2.4739 - val_loss: 2.4511\n",
      "Epoch 4/20\n",
      "1688/1688 [==============================] - 2s 1ms/step - loss: 2.4710 - val_loss: 2.6144\n",
      "Epoch 5/20\n",
      "1688/1688 [==============================] - 2s 1ms/step - loss: 2.4720 - val_loss: 2.7858\n",
      "Epoch 6/20\n",
      "1688/1688 [==============================] - 2s 1ms/step - loss: 2.4639 - val_loss: 2.4940\n",
      "Epoch 7/20\n",
      "1688/1688 [==============================] - 2s 1ms/step - loss: 2.4712 - val_loss: 2.6783\n",
      "Epoch 8/20\n",
      "1688/1688 [==============================] - 2s 1ms/step - loss: 2.4710 - val_loss: 2.8939\n",
      "Epoch 9/20\n",
      "1688/1688 [==============================] - 2s 1ms/step - loss: 2.4777 - val_loss: 2.5652\n",
      "Epoch 10/20\n",
      "1688/1688 [==============================] - 2s 1ms/step - loss: 2.4670 - val_loss: 2.4178\n",
      "Epoch 11/20\n",
      "1688/1688 [==============================] - 2s 1ms/step - loss: 2.4670 - val_loss: 2.8019\n",
      "Epoch 12/20\n",
      "1688/1688 [==============================] - 2s 1ms/step - loss: 2.4685 - val_loss: 3.1391\n",
      "Epoch 13/20\n",
      "1688/1688 [==============================] - 2s 1ms/step - loss: 2.4700 - val_loss: 2.8558\n",
      "Epoch 14/20\n",
      "1688/1688 [==============================] - 2s 1ms/step - loss: 2.4775 - val_loss: 2.8391\n",
      "Epoch 15/20\n",
      "1688/1688 [==============================] - 2s 1ms/step - loss: 2.4665 - val_loss: 2.6554\n",
      "Epoch 16/20\n",
      "1688/1688 [==============================] - 2s 1ms/step - loss: 2.4700 - val_loss: 2.4693\n",
      "Epoch 17/20\n",
      "1688/1688 [==============================] - 2s 1ms/step - loss: 2.4725 - val_loss: 2.7281\n",
      "Epoch 18/20\n",
      "1688/1688 [==============================] - 2s 1ms/step - loss: 2.4736 - val_loss: 2.5404\n",
      "Epoch 19/20\n",
      "1688/1688 [==============================] - 2s 1ms/step - loss: 2.4721 - val_loss: 2.6352\n",
      "Epoch 20/20\n",
      "1688/1688 [==============================] - 2s 1ms/step - loss: 2.4667 - val_loss: 2.3866\n"
     ]
    },
    {
     "data": {
      "text/plain": [
       "<keras.callbacks.History at 0x2fb1fd1f940>"
      ]
     },
     "execution_count": 59,
     "metadata": {},
     "output_type": "execute_result"
    }
   ],
   "source": [
    "model.fit(train_attributes, train_classes, validation_split = 0.1, epochs = 20, callbacks = [TensorBoard(update_freq = 10)])"
   ]
  },
  {
   "cell_type": "code",
   "execution_count": 61,
   "id": "bdc63082",
   "metadata": {},
   "outputs": [],
   "source": [
    "model = Sequential([\n",
    "    Input(input_shape),\n",
    "    Flatten(),\n",
    "    Dense(20, activation = \"relu\"),\n",
    "    Dropout(0.9),\n",
    "    BatchNormalization(),\n",
    "    Dense(num_classes, activation = \"softmax\")    \n",
    "])"
   ]
  },
  {
   "cell_type": "code",
   "execution_count": 62,
   "id": "afb808df",
   "metadata": {},
   "outputs": [
    {
     "name": "stdout",
     "output_type": "stream",
     "text": [
      "Model: \"sequential\"\n",
      "_________________________________________________________________\n",
      " Layer (type)                Output Shape              Param #   \n",
      "=================================================================\n",
      " flatten (Flatten)           (None, 784)               0         \n",
      "                                                                 \n",
      " dense (Dense)               (None, 20)                15700     \n",
      "                                                                 \n",
      " dropout (Dropout)           (None, 20)                0         \n",
      "                                                                 \n",
      " batch_normalization (BatchN  (None, 20)               80        \n",
      " ormalization)                                                   \n",
      "                                                                 \n",
      " dense_1 (Dense)             (None, 10)                210       \n",
      "                                                                 \n",
      "=================================================================\n",
      "Total params: 15,990\n",
      "Trainable params: 15,950\n",
      "Non-trainable params: 40\n",
      "_________________________________________________________________\n"
     ]
    }
   ],
   "source": [
    "model.summary()"
   ]
  },
  {
   "cell_type": "code",
   "execution_count": null,
   "id": "e00d44ec",
   "metadata": {},
   "outputs": [],
   "source": []
  }
 ],
 "metadata": {
  "kernelspec": {
   "display_name": "Python 3 (ipykernel)",
   "language": "python",
   "name": "python3"
  },
  "language_info": {
   "codemirror_mode": {
    "name": "ipython",
    "version": 3
   },
   "file_extension": ".py",
   "mimetype": "text/x-python",
   "name": "python",
   "nbconvert_exporter": "python",
   "pygments_lexer": "ipython3",
   "version": "3.9.13"
  }
 },
 "nbformat": 4,
 "nbformat_minor": 5
}
