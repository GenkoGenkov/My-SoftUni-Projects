{
 "cells": [
  {
   "cell_type": "code",
   "execution_count": 1,
   "id": "f9b9d081",
   "metadata": {},
   "outputs": [],
   "source": [
    "%matplotlib inline"
   ]
  },
  {
   "cell_type": "code",
   "execution_count": 2,
   "id": "cf4e9cf0",
   "metadata": {},
   "outputs": [],
   "source": [
    "import numpy as np\n",
    "import pandas as pd\n",
    "import matplotlib.pyplot as plt\n",
    "\n",
    "import gym"
   ]
  },
  {
   "cell_type": "markdown",
   "id": "c304e8bc",
   "metadata": {},
   "source": [
    "# Reinforcement Learning\n",
    "\n",
    "## Demos"
   ]
  },
  {
   "cell_type": "code",
   "execution_count": 3,
   "id": "81f20938",
   "metadata": {},
   "outputs": [],
   "source": [
    "env = gym.make(\"FrozenLake-v1\")"
   ]
  },
  {
   "cell_type": "code",
   "execution_count": 4,
   "id": "dfceb693",
   "metadata": {},
   "outputs": [
    {
     "data": {
      "text/plain": [
       "<TimeLimit<OrderEnforcing<PassiveEnvChecker<FrozenLakeEnv<FrozenLake-v1>>>>>"
      ]
     },
     "execution_count": 4,
     "metadata": {},
     "output_type": "execute_result"
    }
   ],
   "source": [
    "env"
   ]
  },
  {
   "cell_type": "code",
   "execution_count": 5,
   "id": "ff12b00d",
   "metadata": {},
   "outputs": [
    {
     "data": {
      "text/plain": [
       "(0, {'prob': 1})"
      ]
     },
     "execution_count": 5,
     "metadata": {},
     "output_type": "execute_result"
    }
   ],
   "source": [
    "env.reset()"
   ]
  },
  {
   "cell_type": "code",
   "execution_count": 6,
   "id": "526c6688",
   "metadata": {},
   "outputs": [
    {
     "data": {
      "text/plain": [
       "(4, 0.0, False, False, {'prob': 0.3333333333333333})"
      ]
     },
     "execution_count": 6,
     "metadata": {},
     "output_type": "execute_result"
    }
   ],
   "source": [
    "env.step(1)"
   ]
  },
  {
   "cell_type": "code",
   "execution_count": 7,
   "id": "2ca7bcf1",
   "metadata": {},
   "outputs": [],
   "source": [
    "initial_state, info = env.reset()"
   ]
  },
  {
   "cell_type": "code",
   "execution_count": 8,
   "id": "3b88453d",
   "metadata": {},
   "outputs": [],
   "source": [
    "new_state, reward, truncated, terminated, info = env.step(1)"
   ]
  },
  {
   "cell_type": "code",
   "execution_count": 9,
   "id": "73639163",
   "metadata": {},
   "outputs": [
    {
     "data": {
      "text/plain": [
       "(1, 0.0)"
      ]
     },
     "execution_count": 9,
     "metadata": {},
     "output_type": "execute_result"
    }
   ],
   "source": [
    "new_state, reward"
   ]
  },
  {
   "cell_type": "code",
   "execution_count": 10,
   "id": "d21d641b",
   "metadata": {},
   "outputs": [
    {
     "name": "stdout",
     "output_type": "stream",
     "text": [
      "0 0 0.0 False False {'prob': 0.3333333333333333}\n",
      "1 4 0.0 False False {'prob': 0.3333333333333333}\n",
      "2 0 0.0 False False {'prob': 0.3333333333333333}\n",
      "3 0 0.0 False False {'prob': 0.3333333333333333}\n",
      "4 0 0.0 False False {'prob': 0.3333333333333333}\n",
      "5 1 0.0 False False {'prob': 0.3333333333333333}\n",
      "6 5 0.0 True False {'prob': 0.3333333333333333}\n"
     ]
    }
   ],
   "source": [
    "initial_state, info = env.reset()\n",
    "step_number = 0\n",
    "\n",
    "while True:\n",
    "    new_state, reward, truncated, terminated, info = env.step(np.random.choice(range(4)))\n",
    "\n",
    "    print(step_number, new_state, reward, truncated, terminated, info)\n",
    "    \n",
    "    if truncated or terminated:\n",
    "        break\n",
    "    \n",
    "    step_number += 1"
   ]
  },
  {
   "cell_type": "code",
   "execution_count": null,
   "id": "56b60568",
   "metadata": {},
   "outputs": [],
   "source": []
  }
 ],
 "metadata": {
  "kernelspec": {
   "display_name": "Python 3 (ipykernel)",
   "language": "python",
   "name": "python3"
  },
  "language_info": {
   "codemirror_mode": {
    "name": "ipython",
    "version": 3
   },
   "file_extension": ".py",
   "mimetype": "text/x-python",
   "name": "python",
   "nbconvert_exporter": "python",
   "pygments_lexer": "ipython3",
   "version": "3.9.13"
  }
 },
 "nbformat": 4,
 "nbformat_minor": 5
}
