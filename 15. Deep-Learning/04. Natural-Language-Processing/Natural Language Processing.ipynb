{
 "cells": [
  {
   "cell_type": "code",
   "execution_count": 1,
   "id": "f714580d",
   "metadata": {},
   "outputs": [],
   "source": [
    "%matplotlib inline"
   ]
  },
  {
   "cell_type": "code",
   "execution_count": 49,
   "id": "119ce195",
   "metadata": {},
   "outputs": [],
   "source": [
    "import numpy as np\n",
    "import pandas as pd\n",
    "import matplotlib.pyplot as plt\n",
    "\n",
    "import tensorflow as tf\n",
    "\n",
    "from tensorflow.keras.models import Sequential\n",
    "from tensorflow.keras.layers import Input, SimpleRNN, Bidirectional, GRU, LSTM, Embedding, Conv1D, Flatten, Dense"
   ]
  },
  {
   "cell_type": "markdown",
   "id": "7c582ff5",
   "metadata": {},
   "source": [
    "# Natural Language Processing\n",
    "\n",
    "## Demos"
   ]
  },
  {
   "cell_type": "code",
   "execution_count": 18,
   "id": "017a9987",
   "metadata": {},
   "outputs": [],
   "source": [
    "rnn = Sequential([\n",
    "    Input(shape = (50, 5)),\n",
    "    SimpleRNN(64, return_sequences = True),\n",
    "    SimpleRNN(64, return_sequences = True),\n",
    "    SimpleRNN(32, return_sequences = True),\n",
    "    Flatten(),\n",
    "    \n",
    "    Dense(42, activation = \"relu\"),\n",
    "    Dense(1000, activation = \"softmax\")\n",
    "])"
   ]
  },
  {
   "cell_type": "code",
   "execution_count": 21,
   "id": "7654bc89",
   "metadata": {},
   "outputs": [],
   "source": [
    "conv_nn = Sequential([\n",
    "    Input(shape = (50, 5)),\n",
    "    Conv1D(64, kernel_size = 3, activation = \"relu\"),\n",
    "    Conv1D(64, kernel_size = 3, activation = \"relu\"),    \n",
    "    Conv1D(32, kernel_size = 3, activation = \"relu\"),\n",
    "    Flatten(),\n",
    "    \n",
    "    Dense(42, activation = \"relu\"),\n",
    "    Dense(1000, activation = \"softmax\")\n",
    "])"
   ]
  },
  {
   "cell_type": "code",
   "execution_count": 24,
   "id": "be2308c9",
   "metadata": {},
   "outputs": [
    {
     "name": "stdout",
     "output_type": "stream",
     "text": [
      "Model: \"sequential_7\"\n",
      "_________________________________________________________________\n",
      " Layer (type)                Output Shape              Param #   \n",
      "=================================================================\n",
      " simple_rnn_17 (SimpleRNN)   (None, 50, 64)            4480      \n",
      "                                                                 \n",
      " simple_rnn_18 (SimpleRNN)   (None, 50, 64)            8256      \n",
      "                                                                 \n",
      " simple_rnn_19 (SimpleRNN)   (None, 50, 32)            3104      \n",
      "                                                                 \n",
      " flatten_1 (Flatten)         (None, 1600)              0         \n",
      "                                                                 \n",
      " dense_2 (Dense)             (None, 42)                67242     \n",
      "                                                                 \n",
      " dense_3 (Dense)             (None, 1000)              43000     \n",
      "                                                                 \n",
      "=================================================================\n",
      "Total params: 126,082\n",
      "Trainable params: 126,082\n",
      "Non-trainable params: 0\n",
      "_________________________________________________________________\n"
     ]
    }
   ],
   "source": [
    "rnn.summary()"
   ]
  },
  {
   "cell_type": "code",
   "execution_count": 23,
   "id": "d39a4894",
   "metadata": {},
   "outputs": [
    {
     "name": "stdout",
     "output_type": "stream",
     "text": [
      "Model: \"sequential_8\"\n",
      "_________________________________________________________________\n",
      " Layer (type)                Output Shape              Param #   \n",
      "=================================================================\n",
      " conv1d (Conv1D)             (None, 48, 64)            1024      \n",
      "                                                                 \n",
      " conv1d_1 (Conv1D)           (None, 46, 64)            12352     \n",
      "                                                                 \n",
      " conv1d_2 (Conv1D)           (None, 44, 32)            6176      \n",
      "                                                                 \n",
      " flatten_2 (Flatten)         (None, 1408)              0         \n",
      "                                                                 \n",
      " dense_4 (Dense)             (None, 42)                59178     \n",
      "                                                                 \n",
      " dense_5 (Dense)             (None, 1000)              43000     \n",
      "                                                                 \n",
      "=================================================================\n",
      "Total params: 121,730\n",
      "Trainable params: 121,730\n",
      "Non-trainable params: 0\n",
      "_________________________________________________________________\n"
     ]
    }
   ],
   "source": [
    "conv_nn.summary()"
   ]
  },
  {
   "cell_type": "code",
   "execution_count": 25,
   "id": "23cdcf4f",
   "metadata": {},
   "outputs": [],
   "source": [
    "rnn.compile(loss = \"sparse_categorical_crossentropy\")"
   ]
  },
  {
   "cell_type": "code",
   "execution_count": 33,
   "id": "8dd5e494",
   "metadata": {},
   "outputs": [],
   "source": [
    "gru = Sequential([\n",
    "    Input(shape = (50, 5)),\n",
    "    GRU(20, return_sequences = True)\n",
    "])"
   ]
  },
  {
   "cell_type": "code",
   "execution_count": 34,
   "id": "ede5ad12",
   "metadata": {},
   "outputs": [
    {
     "name": "stdout",
     "output_type": "stream",
     "text": [
      "Model: \"sequential_12\"\n",
      "_________________________________________________________________\n",
      " Layer (type)                Output Shape              Param #   \n",
      "=================================================================\n",
      " gru_1 (GRU)                 (None, 50, 20)            1620      \n",
      "                                                                 \n",
      "=================================================================\n",
      "Total params: 1,620\n",
      "Trainable params: 1,620\n",
      "Non-trainable params: 0\n",
      "_________________________________________________________________\n"
     ]
    }
   ],
   "source": [
    "gru.summary()"
   ]
  },
  {
   "cell_type": "code",
   "execution_count": 35,
   "id": "ea20cfef",
   "metadata": {},
   "outputs": [],
   "source": [
    "lstm = Sequential([\n",
    "    Input(shape = (50, 5)),\n",
    "    LSTM(20, return_sequences = True)\n",
    "])"
   ]
  },
  {
   "cell_type": "code",
   "execution_count": 36,
   "id": "e2d1c2f2",
   "metadata": {},
   "outputs": [
    {
     "name": "stdout",
     "output_type": "stream",
     "text": [
      "Model: \"sequential_13\"\n",
      "_________________________________________________________________\n",
      " Layer (type)                Output Shape              Param #   \n",
      "=================================================================\n",
      " lstm (LSTM)                 (None, 50, 20)            2080      \n",
      "                                                                 \n",
      "=================================================================\n",
      "Total params: 2,080\n",
      "Trainable params: 2,080\n",
      "Non-trainable params: 0\n",
      "_________________________________________________________________\n"
     ]
    }
   ],
   "source": [
    "lstm.summary()"
   ]
  },
  {
   "cell_type": "code",
   "execution_count": 47,
   "id": "a3ca4252",
   "metadata": {},
   "outputs": [],
   "source": [
    "bi_derectional_model = Sequential([\n",
    "    Input(shape = (50, 5)),\n",
    "    Bidirectional(LSTM(20, return_sequences = True), merge_mode = \"sum\"),\n",
    "    Bidirectional(LSTM(20), backward_layer = GRU(20, go_backwards = True)),    \n",
    "])"
   ]
  },
  {
   "cell_type": "code",
   "execution_count": 48,
   "id": "b8c38998",
   "metadata": {},
   "outputs": [
    {
     "name": "stdout",
     "output_type": "stream",
     "text": [
      "Model: \"sequential_18\"\n",
      "_________________________________________________________________\n",
      " Layer (type)                Output Shape              Param #   \n",
      "=================================================================\n",
      " bidirectional_8 (Bidirectio  (None, 50, 20)           4160      \n",
      " nal)                                                            \n",
      "                                                                 \n",
      " bidirectional_9 (Bidirectio  (None, 40)               5800      \n",
      " nal)                                                            \n",
      "                                                                 \n",
      "=================================================================\n",
      "Total params: 9,960\n",
      "Trainable params: 9,960\n",
      "Non-trainable params: 0\n",
      "_________________________________________________________________\n"
     ]
    }
   ],
   "source": [
    "bi_derectional_model.summary()"
   ]
  },
  {
   "cell_type": "code",
   "execution_count": 51,
   "id": "b52c3fed",
   "metadata": {},
   "outputs": [],
   "source": [
    "embedding_model = Sequential([\n",
    "    Input(shape = (14000)),\n",
    "    Embedding(input_dim = 14000, output_dim = 300),\n",
    "    Bidirectional(LSTM(20, return_sequences = True), merge_mode = \"sum\"),\n",
    "    Bidirectional(LSTM(20), backward_layer = GRU(20, go_backwards = True)),    \n",
    "])"
   ]
  },
  {
   "cell_type": "code",
   "execution_count": 52,
   "id": "d424d7fe",
   "metadata": {},
   "outputs": [
    {
     "name": "stdout",
     "output_type": "stream",
     "text": [
      "Model: \"sequential_19\"\n",
      "_________________________________________________________________\n",
      " Layer (type)                Output Shape              Param #   \n",
      "=================================================================\n",
      " embedding (Embedding)       (None, 14000, 300)        4200000   \n",
      "                                                                 \n",
      " bidirectional_10 (Bidirecti  (None, 14000, 20)        51360     \n",
      " onal)                                                           \n",
      "                                                                 \n",
      " bidirectional_11 (Bidirecti  (None, 40)               5800      \n",
      " onal)                                                           \n",
      "                                                                 \n",
      "=================================================================\n",
      "Total params: 4,257,160\n",
      "Trainable params: 4,257,160\n",
      "Non-trainable params: 0\n",
      "_________________________________________________________________\n"
     ]
    }
   ],
   "source": [
    "embedding_model.summary()"
   ]
  }
 ],
 "metadata": {
  "kernelspec": {
   "display_name": "Python 3 (ipykernel)",
   "language": "python",
   "name": "python3"
  },
  "language_info": {
   "codemirror_mode": {
    "name": "ipython",
    "version": 3
   },
   "file_extension": ".py",
   "mimetype": "text/x-python",
   "name": "python",
   "nbconvert_exporter": "python",
   "pygments_lexer": "ipython3",
   "version": "3.9.13"
  }
 },
 "nbformat": 4,
 "nbformat_minor": 5
}
