{
 "cells": [
  {
   "cell_type": "code",
   "execution_count": 1,
   "metadata": {},
   "outputs": [],
   "source": [
    "%matplotlib inline"
   ]
  },
  {
   "cell_type": "code",
   "execution_count": 2,
   "metadata": {},
   "outputs": [],
   "source": [
    "import numpy as np\n",
    "import pandas as pd\n",
    "import matplotlib.pyplot as plt"
   ]
  },
  {
   "cell_type": "markdown",
   "metadata": {},
   "source": [
    "# Data Visualization. Exploratory Data Analysis\n",
    "## Live Demos"
   ]
  },
  {
   "cell_type": "code",
   "execution_count": 3,
   "metadata": {},
   "outputs": [],
   "source": [
    "flags_data = pd.read_csv(\"https://archive.ics.uci.edu/ml/machine-learning-databases/flags/flag.data\", header = None)"
   ]
  },
  {
   "cell_type": "code",
   "execution_count": 4,
   "metadata": {},
   "outputs": [],
   "source": [
    "flags_data.columns = [\"name\", \"landmass\", \"zone\", \"area\", \"population\", \"language\", \"religion\", \"bars\", \"stripes\", \"colours\", \"red\", \"green\", \"blue\", \"gold\", \"white\", \"black\", \"orange\", \"mainhue\", \"circles\", \"crosses\", \"saltires\", \"quarters\", \"sunstars\", \"crescent\", \"triangle\", \"icon\", \"animate\", \"text\", \"topleft\", \"botright\"]"
   ]
  },
  {
   "cell_type": "code",
   "execution_count": 5,
   "metadata": {},
   "outputs": [
    {
     "data": {
      "text/html": [
       "<div>\n",
       "<style scoped>\n",
       "    .dataframe tbody tr th:only-of-type {\n",
       "        vertical-align: middle;\n",
       "    }\n",
       "\n",
       "    .dataframe tbody tr th {\n",
       "        vertical-align: top;\n",
       "    }\n",
       "\n",
       "    .dataframe thead th {\n",
       "        text-align: right;\n",
       "    }\n",
       "</style>\n",
       "<table border=\"1\" class=\"dataframe\">\n",
       "  <thead>\n",
       "    <tr style=\"text-align: right;\">\n",
       "      <th></th>\n",
       "      <th>name</th>\n",
       "      <th>landmass</th>\n",
       "      <th>zone</th>\n",
       "      <th>area</th>\n",
       "      <th>population</th>\n",
       "      <th>language</th>\n",
       "      <th>religion</th>\n",
       "      <th>bars</th>\n",
       "      <th>stripes</th>\n",
       "      <th>colours</th>\n",
       "      <th>...</th>\n",
       "      <th>saltires</th>\n",
       "      <th>quarters</th>\n",
       "      <th>sunstars</th>\n",
       "      <th>crescent</th>\n",
       "      <th>triangle</th>\n",
       "      <th>icon</th>\n",
       "      <th>animate</th>\n",
       "      <th>text</th>\n",
       "      <th>topleft</th>\n",
       "      <th>botright</th>\n",
       "    </tr>\n",
       "  </thead>\n",
       "  <tbody>\n",
       "    <tr>\n",
       "      <th>0</th>\n",
       "      <td>Afghanistan</td>\n",
       "      <td>5</td>\n",
       "      <td>1</td>\n",
       "      <td>648</td>\n",
       "      <td>16</td>\n",
       "      <td>10</td>\n",
       "      <td>2</td>\n",
       "      <td>0</td>\n",
       "      <td>3</td>\n",
       "      <td>5</td>\n",
       "      <td>...</td>\n",
       "      <td>0</td>\n",
       "      <td>0</td>\n",
       "      <td>1</td>\n",
       "      <td>0</td>\n",
       "      <td>0</td>\n",
       "      <td>1</td>\n",
       "      <td>0</td>\n",
       "      <td>0</td>\n",
       "      <td>black</td>\n",
       "      <td>green</td>\n",
       "    </tr>\n",
       "    <tr>\n",
       "      <th>1</th>\n",
       "      <td>Albania</td>\n",
       "      <td>3</td>\n",
       "      <td>1</td>\n",
       "      <td>29</td>\n",
       "      <td>3</td>\n",
       "      <td>6</td>\n",
       "      <td>6</td>\n",
       "      <td>0</td>\n",
       "      <td>0</td>\n",
       "      <td>3</td>\n",
       "      <td>...</td>\n",
       "      <td>0</td>\n",
       "      <td>0</td>\n",
       "      <td>1</td>\n",
       "      <td>0</td>\n",
       "      <td>0</td>\n",
       "      <td>0</td>\n",
       "      <td>1</td>\n",
       "      <td>0</td>\n",
       "      <td>red</td>\n",
       "      <td>red</td>\n",
       "    </tr>\n",
       "    <tr>\n",
       "      <th>2</th>\n",
       "      <td>Algeria</td>\n",
       "      <td>4</td>\n",
       "      <td>1</td>\n",
       "      <td>2388</td>\n",
       "      <td>20</td>\n",
       "      <td>8</td>\n",
       "      <td>2</td>\n",
       "      <td>2</td>\n",
       "      <td>0</td>\n",
       "      <td>3</td>\n",
       "      <td>...</td>\n",
       "      <td>0</td>\n",
       "      <td>0</td>\n",
       "      <td>1</td>\n",
       "      <td>1</td>\n",
       "      <td>0</td>\n",
       "      <td>0</td>\n",
       "      <td>0</td>\n",
       "      <td>0</td>\n",
       "      <td>green</td>\n",
       "      <td>white</td>\n",
       "    </tr>\n",
       "    <tr>\n",
       "      <th>3</th>\n",
       "      <td>American-Samoa</td>\n",
       "      <td>6</td>\n",
       "      <td>3</td>\n",
       "      <td>0</td>\n",
       "      <td>0</td>\n",
       "      <td>1</td>\n",
       "      <td>1</td>\n",
       "      <td>0</td>\n",
       "      <td>0</td>\n",
       "      <td>5</td>\n",
       "      <td>...</td>\n",
       "      <td>0</td>\n",
       "      <td>0</td>\n",
       "      <td>0</td>\n",
       "      <td>0</td>\n",
       "      <td>1</td>\n",
       "      <td>1</td>\n",
       "      <td>1</td>\n",
       "      <td>0</td>\n",
       "      <td>blue</td>\n",
       "      <td>red</td>\n",
       "    </tr>\n",
       "    <tr>\n",
       "      <th>4</th>\n",
       "      <td>Andorra</td>\n",
       "      <td>3</td>\n",
       "      <td>1</td>\n",
       "      <td>0</td>\n",
       "      <td>0</td>\n",
       "      <td>6</td>\n",
       "      <td>0</td>\n",
       "      <td>3</td>\n",
       "      <td>0</td>\n",
       "      <td>3</td>\n",
       "      <td>...</td>\n",
       "      <td>0</td>\n",
       "      <td>0</td>\n",
       "      <td>0</td>\n",
       "      <td>0</td>\n",
       "      <td>0</td>\n",
       "      <td>0</td>\n",
       "      <td>0</td>\n",
       "      <td>0</td>\n",
       "      <td>blue</td>\n",
       "      <td>red</td>\n",
       "    </tr>\n",
       "  </tbody>\n",
       "</table>\n",
       "<p>5 rows × 30 columns</p>\n",
       "</div>"
      ],
      "text/plain": [
       "             name  landmass  zone  area  population  language  religion  bars  \\\n",
       "0     Afghanistan         5     1   648          16        10         2     0   \n",
       "1         Albania         3     1    29           3         6         6     0   \n",
       "2         Algeria         4     1  2388          20         8         2     2   \n",
       "3  American-Samoa         6     3     0           0         1         1     0   \n",
       "4         Andorra         3     1     0           0         6         0     3   \n",
       "\n",
       "   stripes  colours  ...  saltires  quarters  sunstars  crescent  triangle  \\\n",
       "0        3        5  ...         0         0         1         0         0   \n",
       "1        0        3  ...         0         0         1         0         0   \n",
       "2        0        3  ...         0         0         1         1         0   \n",
       "3        0        5  ...         0         0         0         0         1   \n",
       "4        0        3  ...         0         0         0         0         0   \n",
       "\n",
       "   icon  animate text  topleft  botright  \n",
       "0     1        0    0    black     green  \n",
       "1     0        1    0      red       red  \n",
       "2     0        0    0    green     white  \n",
       "3     1        1    0     blue       red  \n",
       "4     0        0    0     blue       red  \n",
       "\n",
       "[5 rows x 30 columns]"
      ]
     },
     "execution_count": 5,
     "metadata": {},
     "output_type": "execute_result"
    }
   ],
   "source": [
    "flags_data.head()"
   ]
  },
  {
   "cell_type": "code",
   "execution_count": 6,
   "metadata": {},
   "outputs": [
    {
     "data": {
      "text/plain": [
       "(194, 30)"
      ]
     },
     "execution_count": 6,
     "metadata": {},
     "output_type": "execute_result"
    }
   ],
   "source": [
    "flags_data.shape"
   ]
  },
  {
   "cell_type": "code",
   "execution_count": 7,
   "metadata": {},
   "outputs": [
    {
     "data": {
      "text/plain": [
       "Index(['name', 'landmass', 'zone', 'area', 'population', 'language',\n",
       "       'religion', 'bars', 'stripes', 'colours', 'red', 'green', 'blue',\n",
       "       'gold', 'white', 'black', 'orange', 'mainhue', 'circles', 'crosses',\n",
       "       'saltires', 'quarters', 'sunstars', 'crescent', 'triangle', 'icon',\n",
       "       'animate', 'text', 'topleft', 'botright'],\n",
       "      dtype='object')"
      ]
     },
     "execution_count": 7,
     "metadata": {},
     "output_type": "execute_result"
    }
   ],
   "source": [
    "flags_data.columns"
   ]
  },
  {
   "cell_type": "code",
   "execution_count": 8,
   "metadata": {},
   "outputs": [
    {
     "data": {
      "image/png": "[encoded data removed]",
      "text/plain": [
       "<Figure size 432x288 with 1 Axes>"
      ]
     },
     "metadata": {
      "needs_background": "light"
     },
     "output_type": "display_data"
    }
   ],
   "source": [
    "plt.hist(np.log10(flags_data.area[flags_data.area > 0]))\n",
    "\n",
    "plt.title(\"Distribution of country areas\")\n",
    "plt.xlabel(\"$\\lg\\ {Area}$\")\n",
    "plt.ylabel(\"Number of countries\")\n",
    "\n",
    "plt.show()"
   ]
  },
  {
   "cell_type": "code",
   "execution_count": 9,
   "metadata": {},
   "outputs": [
    {
     "data": {
      "text/html": [
       "<div>\n",
       "<style scoped>\n",
       "    .dataframe tbody tr th:only-of-type {\n",
       "        vertical-align: middle;\n",
       "    }\n",
       "\n",
       "    .dataframe tbody tr th {\n",
       "        vertical-align: top;\n",
       "    }\n",
       "\n",
       "    .dataframe thead th {\n",
       "        text-align: right;\n",
       "    }\n",
       "</style>\n",
       "<table border=\"1\" class=\"dataframe\">\n",
       "  <thead>\n",
       "    <tr style=\"text-align: right;\">\n",
       "      <th></th>\n",
       "      <th>name</th>\n",
       "      <th>landmass</th>\n",
       "      <th>zone</th>\n",
       "      <th>area</th>\n",
       "      <th>population</th>\n",
       "      <th>language</th>\n",
       "      <th>religion</th>\n",
       "      <th>bars</th>\n",
       "      <th>stripes</th>\n",
       "      <th>colours</th>\n",
       "      <th>...</th>\n",
       "      <th>saltires</th>\n",
       "      <th>quarters</th>\n",
       "      <th>sunstars</th>\n",
       "      <th>crescent</th>\n",
       "      <th>triangle</th>\n",
       "      <th>icon</th>\n",
       "      <th>animate</th>\n",
       "      <th>text</th>\n",
       "      <th>topleft</th>\n",
       "      <th>botright</th>\n",
       "    </tr>\n",
       "  </thead>\n",
       "  <tbody>\n",
       "    <tr>\n",
       "      <th>184</th>\n",
       "      <td>USSR</td>\n",
       "      <td>5</td>\n",
       "      <td>1</td>\n",
       "      <td>22402</td>\n",
       "      <td>274</td>\n",
       "      <td>5</td>\n",
       "      <td>6</td>\n",
       "      <td>0</td>\n",
       "      <td>0</td>\n",
       "      <td>2</td>\n",
       "      <td>...</td>\n",
       "      <td>0</td>\n",
       "      <td>0</td>\n",
       "      <td>1</td>\n",
       "      <td>0</td>\n",
       "      <td>0</td>\n",
       "      <td>1</td>\n",
       "      <td>0</td>\n",
       "      <td>0</td>\n",
       "      <td>red</td>\n",
       "      <td>red</td>\n",
       "    </tr>\n",
       "  </tbody>\n",
       "</table>\n",
       "<p>1 rows × 30 columns</p>\n",
       "</div>"
      ],
      "text/plain": [
       "     name  landmass  zone   area  population  language  religion  bars  \\\n",
       "184  USSR         5     1  22402         274         5         6     0   \n",
       "\n",
       "     stripes  colours  ...  saltires  quarters  sunstars  crescent  triangle  \\\n",
       "184        0        2  ...         0         0         1         0         0   \n",
       "\n",
       "     icon  animate text  topleft  botright  \n",
       "184     1        0    0      red       red  \n",
       "\n",
       "[1 rows x 30 columns]"
      ]
     },
     "execution_count": 9,
     "metadata": {},
     "output_type": "execute_result"
    }
   ],
   "source": [
    "flags_data[flags_data.area > 15000]"
   ]
  },
  {
   "cell_type": "code",
   "execution_count": 10,
   "metadata": {},
   "outputs": [
    {
     "data": {
      "image/png": "[encoded data removed]",
      "text/plain": [
       "<Figure size 432x288 with 1 Axes>"
      ]
     },
     "metadata": {
      "needs_background": "light"
     },
     "output_type": "display_data"
    }
   ],
   "source": [
    "plt.boxplot(np.log10(flags_data.area[flags_data.area > 0]))\n",
    "\n",
    "plt.xticks([1], [\"\"])\n",
    "plt.ylabel(\"$\\lg\\ Area$\")\n",
    "\n",
    "plt.show()"
   ]
  },
  {
   "cell_type": "code",
   "execution_count": 11,
   "metadata": {},
   "outputs": [
    {
     "name": "stdout",
     "output_type": "stream",
     "text": [
      "1 => 779.4516129032259\n",
      "2 => 1211.1176470588234\n",
      "3 => 139.5142857142857\n",
      "4 => 534.3076923076923\n",
      "5 => 1222.8974358974358\n",
      "6 => 534.85\n"
     ]
    }
   ],
   "source": [
    "landmasses = []\n",
    "mean_areas = []\n",
    "for landmass, group_data in flags_data.groupby(\"landmass\"):\n",
    "    landmasses.append(landmass)\n",
    "    mean_areas.append(group_data.area.mean())\n",
    "    print(landmass, \"=>\", group_data.area.mean())"
   ]
  },
  {
   "cell_type": "code",
   "execution_count": 12,
   "metadata": {},
   "outputs": [
    {
     "data": {
      "image/png": "[encoded data removed]",
      "text/plain": [
       "<Figure size 432x288 with 1 Axes>"
      ]
     },
     "metadata": {
      "needs_background": "light"
     },
     "output_type": "display_data"
    }
   ],
   "source": [
    "plt.barh(landmasses, mean_areas)\n",
    "\n",
    "plt.title(\"Mean areas by continent\")\n",
    "plt.xlabel(\"Mean area\")\n",
    "plt.ylabel(\"Continent\")\n",
    "\n",
    "plt.show()"
   ]
  },
  {
   "cell_type": "code",
   "execution_count": 13,
   "metadata": {},
   "outputs": [
    {
     "data": {
      "text/plain": [
       "Text(0, 0.5, 'Population [millions]')"
      ]
     },
     "execution_count": 13,
     "metadata": {},
     "output_type": "execute_result"
    },
    {
     "data": {
      "image/png": "[encoded data removed]",
      "text/plain": [
       "<Figure size 432x288 with 1 Axes>"
      ]
     },
     "metadata": {
      "needs_background": "light"
     },
     "output_type": "display_data"
    }
   ],
   "source": [
    "plt.scatter(flags_data.area, flags_data.population)\n",
    "\n",
    "plt.title(\"Population vs. area\")\n",
    "plt.xlabel(\"Area [thousands sq km]\")\n",
    "plt.ylabel(\"Population [millions]\")"
   ]
  },
  {
   "cell_type": "code",
   "execution_count": 14,
   "metadata": {},
   "outputs": [],
   "source": [
    "smaller_countries = flags_data[(flags_data.area < 5000) & (flags_data.population < 200)]"
   ]
  },
  {
   "cell_type": "code",
   "execution_count": 27,
   "metadata": {},
   "outputs": [
    {
     "data": {
      "image/png": "[encoded data removed]",
      "text/plain": [
       "<Figure size 720x576 with 1 Axes>"
      ]
     },
     "metadata": {
      "needs_background": "light"
     },
     "output_type": "display_data"
    }
   ],
   "source": [
    "plt.figure(figsize = (10, 8))\n",
    "\n",
    "plt.scatter(smaller_countries.area, smaller_countries.population, marker = \"x\", c = \"r\", s = 300)\n",
    "\n",
    "plt.title(\"Population vs. area: smaller countries\")\n",
    "plt.xlabel(\"Area [thousands sq km]\")\n",
    "plt.ylabel(\"Population [millions]\")\n",
    "\n",
    "plt.show()"
   ]
  },
  {
   "cell_type": "code",
   "execution_count": 16,
   "metadata": {},
   "outputs": [
    {
     "data": {
      "text/plain": [
       "Text(0, 0.5, 'Population [millions]')"
      ]
     },
     "execution_count": 16,
     "metadata": {},
     "output_type": "execute_result"
    },
    {
     "data": {
      "image/png": "[encoded data removed]",
      "text/plain": [
       "<Figure size 432x288 with 1 Axes>"
      ]
     },
     "metadata": {
      "needs_background": "light"
     },
     "output_type": "display_data"
    }
   ],
   "source": [
    "even_smaller_countries = flags_data[(flags_data.area < 500) & (flags_data.population < 20)]\n",
    "plt.scatter(even_smaller_countries.area, even_smaller_countries.population)\n",
    "\n",
    "plt.title(\"Population vs. area: even smaller countries\")\n",
    "plt.xlabel(\"Area [thousands sq km]\")\n",
    "plt.ylabel(\"Population [millions]\")"
   ]
  },
  {
   "cell_type": "code",
   "execution_count": 17,
   "metadata": {},
   "outputs": [
    {
     "name": "stderr",
     "output_type": "stream",
     "text": [
      "C:\\Users\\Yordan\\Anaconda3\\envs\\tf2\\lib\\site-packages\\pandas\\core\\series.py:679: RuntimeWarning: divide by zero encountered in log10\n",
      "  result = getattr(ufunc, method)(*inputs, **kwargs)\n"
     ]
    },
    {
     "data": {
      "image/png": "[encoded data removed]",
      "text/plain": [
       "<Figure size 432x288 with 1 Axes>"
      ]
     },
     "metadata": {
      "needs_background": "light"
     },
     "output_type": "display_data"
    }
   ],
   "source": [
    "plt.scatter(np.log10(flags_data.area), np.log10(flags_data.population))\n",
    "\n",
    "plt.title(\"Population vs. area\")\n",
    "plt.xlabel(\"lg Area [thousands sq km]\")\n",
    "plt.ylabel(\"lg Population [millions]\")\n",
    "\n",
    "plt.show()"
   ]
  },
  {
   "cell_type": "code",
   "execution_count": 35,
   "metadata": {},
   "outputs": [
    {
     "data": {
      "image/png": "[encoded data removed]",
      "text/plain": [
       "<Figure size 432x288 with 1 Axes>"
      ]
     },
     "metadata": {},
     "output_type": "display_data"
    }
   ],
   "source": [
    "sizes = [15, 30, 45, 10]\n",
    "plt.pie(sizes, labels = [\"Frogs\", \"Hogs\", \"Dogs\", \"Logs\"], autopct = '%1.3f%%', colors = [\"red\", \"green\", \"blue\", \"yellow\"])\n",
    "# Make the plot look circular\n",
    "plt.gca().set_aspect(\"equal\")"
   ]
  },
  {
   "cell_type": "code",
   "execution_count": 19,
   "metadata": {},
   "outputs": [
    {
     "data": {
      "text/plain": [
       "['bmh',\n",
       " 'classic',\n",
       " 'dark_background',\n",
       " 'fast',\n",
       " 'fivethirtyeight',\n",
       " 'ggplot',\n",
       " 'grayscale',\n",
       " 'seaborn-bright',\n",
       " 'seaborn-colorblind',\n",
       " 'seaborn-dark-palette',\n",
       " 'seaborn-dark',\n",
       " 'seaborn-darkgrid',\n",
       " 'seaborn-deep',\n",
       " 'seaborn-muted',\n",
       " 'seaborn-notebook',\n",
       " 'seaborn-paper',\n",
       " 'seaborn-pastel',\n",
       " 'seaborn-poster',\n",
       " 'seaborn-talk',\n",
       " 'seaborn-ticks',\n",
       " 'seaborn-white',\n",
       " 'seaborn-whitegrid',\n",
       " 'seaborn',\n",
       " 'Solarize_Light2',\n",
       " 'tableau-colorblind10',\n",
       " '_classic_test']"
      ]
     },
     "execution_count": 19,
     "metadata": {},
     "output_type": "execute_result"
    }
   ],
   "source": [
    "plt.style.available"
   ]
  },
  {
   "cell_type": "code",
   "execution_count": 43,
   "metadata": {},
   "outputs": [
    {
     "data": {
      "image/png": "[encoded data removed]",
      "text/plain": [
       "<Figure size 720x432 with 1 Axes>"
      ]
     },
     "metadata": {
      "needs_background": "light"
     },
     "output_type": "display_data"
    }
   ],
   "source": [
    "x = np.linspace(-np.pi, np.pi, 5000)\n",
    "\n",
    "cos_x = np.cos(x) # [-pi; pi]\n",
    "sin_x = np.sin(x)\n",
    "\n",
    "plt.figure(figsize = (10, 6))\n",
    "plt.plot(x, cos_x, color = \"blue\", linewidth = 10, linestyle = \"dashed\")\n",
    "plt.plot(x, sin_x, color = \"red\", linewidth = 2.5, linestyle = \"--\")\n",
    "# Tick marks and labels\n",
    "plt.xticks([-np.pi, -np.pi / 2, 0, np.pi / 2, np.pi],\n",
    "    [r\"$-\\pi$\", r\"$-\\pi/2$\", r\"$0$\", r\"$+\\pi/2$\", r\"$+\\pi$\"])\n",
    "plt.yticks([-1, 0, 1], [r\"$-1$\", r\"$0$\", r\"$+1$\"])\n",
    "# ax = plt.gca()\n",
    "# for label in ax.get_xticklabels() + ax.get_yticklabels():\n",
    "#     label.set_fontsize(16)\n",
    "#     label.set_bbox({facecolor: \"white\", edgecolor: \"None\", alpha: 0.65})\n",
    "plt.show()"
   ]
  },
  {
   "cell_type": "code",
   "execution_count": null,
   "metadata": {},
   "outputs": [],
   "source": []
  }
 ],
 "metadata": {
  "kernelspec": {
   "display_name": "Python 3",
   "language": "python",
   "name": "python3"
  },
  "language_info": {
   "codemirror_mode": {
    "name": "ipython",
    "version": 3
   },
   "file_extension": ".py",
   "mimetype": "text/x-python",
   "name": "python",
   "nbconvert_exporter": "python",
   "pygments_lexer": "ipython3",
   "version": "3.7.7"
  }
 },
 "nbformat": 4,
 "nbformat_minor": 4
}
